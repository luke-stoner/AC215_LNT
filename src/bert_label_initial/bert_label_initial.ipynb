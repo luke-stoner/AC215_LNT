{
 "cells": [
  {
   "cell_type": "code",
   "execution_count": null,
   "metadata": {},
   "outputs": [],
   "source": [
    "#import necessary libraries \n",
    "import torch\n",
    "from torch.nn.functional import softmax\n",
    "import pandas as pd\n",
    "from transformers import AutoTokenizer, AutoModelForSequenceClassification\n",
    "import os\n",
    "from google.cloud import storage\n",
    "import io"
   ]
  },
  {
   "cell_type": "code",
   "execution_count": null,
   "metadata": {},
   "outputs": [],
   "source": [
    "#create GCP Client\n",
    "os.environ[\"GOOGLE_APPLICATION_CREDENTIALS\"] = \"/Users/lu31635/Desktop/AC215/ac215.json\"\n",
    "storage_client = storage.Client()\n",
    "bucket = storage_client.bucket('data-lnt')\n",
    "source_filename = 'raw/unlabeled.csv'\n",
    "blob = bucket.blob(source_filename)\n",
    "content = blob.download_as_text()"
   ]
  },
  {
   "cell_type": "code",
   "execution_count": null,
   "metadata": {},
   "outputs": [],
   "source": [
    "def get_model(model_name):\n",
    "    \"\"\"\n",
    "    Input: model_name (name of desired BERT model)\n",
    "    Output: tokenizer, model\n",
    "\n",
    "    >>> get_model(\"cardiffnlp/twitter-xlm-roberta-base-sentiment\")\n",
    "    tokenizer(model_name), model(model_name)\n",
    "    \"\"\"\n",
    "    tokenizer = AutoTokenizer.from_pretrained(model_name)\n",
    "    model = AutoModelForSequenceClassification.from_pretrained(model_name)\n",
    "\n",
    "    return tokenizer, model"
   ]
  },
  {
   "cell_type": "code",
   "execution_count": null,
   "metadata": {},
   "outputs": [],
   "source": [
    "def tokenize(dataframe):\n",
    "    \"\"\"\n",
    "    Input: Pandas dataframe (assumes text column = 'text')\n",
    "    Output: tokenized text\n",
    "\n",
    "    >>> tokenize(df)\n",
    "    tokenized_texts\n",
    "    \"\"\"\n",
    "    text_samples = dataframe['text'].tolist()\n",
    "    tokenized_texts = tokenizer(text_samples, padding=True, truncation=True, return_tensors=\"pt\")\n",
    "\n",
    "    return tokenized_texts"
   ]
  },
  {
   "cell_type": "code",
   "execution_count": null,
   "metadata": {},
   "outputs": [],
   "source": [
    "def get_scores(model_outputs, dataframe):\n",
    "    \"\"\"\n",
    "    Input: BERT Model Output and desired dataframe\n",
    "    Output: New DF Columns for Negative, Netural, Positive, and Final Predicted Label\n",
    "\n",
    "    >>> get_scrores(outputs, dataframe):\n",
    "    returns None\n",
    "    \"\"\"\n",
    "    #define output logits\n",
    "    logits = model_outputs.logits\n",
    "\n",
    "    #calculate softmax probabilities for each class\n",
    "    probs = softmax(logits, dim=1).tolist()\n",
    "\n",
    "    #extract the raw scores for each sentiment class\n",
    "    negative_scores = [score[0] for score in probs]\n",
    "    neutral_scores = [score[1] for score in probs]\n",
    "    positive_scores = [score[2] for score in probs]\n",
    "\n",
    "    #map the predicted labels to sentiment categories\n",
    "    sentiment_labels = [\"Negative\", \"Neutral\", \"Positive\"]\n",
    "    predicted_labels = [sentiment_labels[label] for label in torch.argmax(logits, dim=1).tolist()]\n",
    "\n",
    "    #add the scores and predicted labels to the DataFrame\n",
    "    dataframe['negative_score'] = negative_scores\n",
    "    dataframe['neutral_score'] = neutral_scores\n",
    "    dataframe['positive_score'] = positive_scores\n",
    "    dataframe['predicted_sentiment'] = predicted_labels"
   ]
  },
  {
   "cell_type": "code",
   "execution_count": null,
   "metadata": {},
   "outputs": [],
   "source": [
    "def save_dataset(df, outfilepath):\n",
    "    \"\"\"\n",
    "    Saves the labeled dataframe to GCP data bucket\n",
    "    \n",
    "    Input: Pandas dataframe, GCP file path\n",
    "    Output: None\n",
    "\n",
    "    >>> save_dataset(dataframe, 'filepath'):\n",
    "    returns None\n",
    "    \"\"\"\n",
    "    out_file = bucket.blob(outfilepath)\n",
    "    df.to_csv(out_file, index=False)\n",
    "    out_file.upload_from_filename(outfilepath)"
   ]
  },
  {
   "cell_type": "code",
   "execution_count": null,
   "metadata": {},
   "outputs": [],
   "source": [
    "#import unlabeled dataset into dataframe\n",
    "df = pd.read_csv(io.StringIO(content), names= ['first', 'last', 'party', 'network', 'date', 'text'])\n",
    "df.head(5)"
   ]
  },
  {
   "cell_type": "code",
   "execution_count": null,
   "metadata": {},
   "outputs": [],
   "source": [
    "#define BERT model and tokenized text\n",
    "tokenizer, model = get_model(\"cardiffnlp/twitter-xlm-roberta-base-sentiment\")\n",
    "tokenized_texts = tokenize(df)"
   ]
  },
  {
   "cell_type": "code",
   "execution_count": null,
   "metadata": {},
   "outputs": [],
   "source": [
    "#conudct sentiment analysis with non fine-tuned bert model\n",
    "with torch.no_grad():\n",
    "    outputs = model(**tokenized_texts)\n",
    "\n",
    "#update unlabeled dataframe with sentiment scores\n",
    "get_scores(outputs, df)\n",
    "df.head(5)"
   ]
  },
  {
   "cell_type": "code",
   "execution_count": null,
   "metadata": {},
   "outputs": [],
   "source": [
    "#export dataframe to csv on GCP\n",
    "save_dataset(df, 'processed/labeled_initial.csv')"
   ]
  }
 ],
 "metadata": {
  "language_info": {
   "name": "python"
  }
 },
 "nbformat": 4,
 "nbformat_minor": 2
}
