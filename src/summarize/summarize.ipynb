{
 "cells": [
  {
   "cell_type": "code",
   "execution_count": 1,
   "id": "9854efbb-24e9-414c-97a5-7510f855a775",
   "metadata": {},
   "outputs": [],
   "source": [
    "import pandas as pd\n",
    "import os\n",
    "from google.cloud import storage\n",
    "import io\n",
    "from transformers import pipeline\n",
    "import torch"
   ]
  },
  {
   "cell_type": "code",
   "execution_count": 2,
   "id": "8dee6fe5-9fa6-45cc-b661-820b079bf980",
   "metadata": {},
   "outputs": [],
   "source": [
    "# Declare global variables\n",
    "GCP_KEY = '/home/jupyter/secrets/ac215.json'\n",
    "GCP_DATA_BUCKET = 'data-lnt'\n",
    "GCP_SOURCE_FILENAME = 'raw/unlabeled.csv'\n",
    "MODEL_SPECIFICATION = 'pszemraj/led-base-book-summary'\n",
    "OUTPUT_FILEPATH = 'processed/summaries.csv'"
   ]
  },
  {
   "cell_type": "code",
   "execution_count": 3,
   "id": "a6b967f9-15e8-4e40-8875-f422eb932f01",
   "metadata": {},
   "outputs": [],
   "source": [
    "#create GCP Client\n",
    "os.environ[\"GOOGLE_APPLICATION_CREDENTIALS\"] = GCP_KEY\n",
    "storage_client = storage.Client()\n",
    "bucket = storage_client.bucket(GCP_DATA_BUCKET)\n",
    "source_filename = GCP_SOURCE_FILENAME\n",
    "blob = bucket.blob(source_filename)\n",
    "content = blob.download_as_text()"
   ]
  },
  {
   "cell_type": "code",
   "execution_count": 4,
   "id": "43d8b460-a4dc-4414-92f0-524325a44b02",
   "metadata": {},
   "outputs": [
    {
     "name": "stdout",
     "output_type": "stream",
     "text": [
      "Using device: cuda:0\n"
     ]
    }
   ],
   "source": [
    "# Check if a GPU is available\n",
    "if torch.cuda.is_available():\n",
    "    # Set the device to the first available GPU\n",
    "    device = torch.device(\"cuda:0\")\n",
    "else:\n",
    "    # If no GPU is available, use the CPU\n",
    "    device = torch.device(\"cpu\")\n",
    "\n",
    "# Print the device being used\n",
    "print(f\"Using device: {device}\")"
   ]
  },
  {
   "cell_type": "code",
   "execution_count": 5,
   "id": "ca7db4e2-65c8-43bc-a671-977f3e3cf0b4",
   "metadata": {},
   "outputs": [],
   "source": [
    "def summarize(dataframe):\n",
    "    #initialize summary dataframe\n",
    "    summary_df = pd.DataFrame(columns=['first_name', 'last_name'])\n",
    "    \n",
    "    #get lists of candidate names and add to extract_df\n",
    "    first_names = dataframe['first_name'].unique().tolist()\n",
    "    last_names = dataframe['last_name'].unique().tolist()\n",
    "    summary_df['first_name'] = first_names\n",
    "    summary_df['last_name'] = last_names\n",
    "    \n",
    "    #initalize empty list to store candidate text\n",
    "    candidate_text = []\n",
    "    \n",
    "    for first, last in zip(first_names, last_names):\n",
    "        #get up to 100 random mentions of candidate\n",
    "        candidate_df = df[df['last_name'] == last]\n",
    "        try:\n",
    "            candidate_df = candidate_df.sample(n=100)\n",
    "        except:\n",
    "            pass\n",
    "        \n",
    "        #get mentions from random sample\n",
    "        mentions = candidate_df['text'].tolist()\n",
    "        \n",
    "        #convert mentions list to one string\n",
    "        text = ' '.join(mentions)\n",
    "        \n",
    "        #append text to candidate_text list\n",
    "        candidate_text.append(text)\n",
    "\n",
    "    #create summaries\n",
    "    summaries = summarizer(candidate_text,\n",
    "                           min_length=128,\n",
    "                           max_length=256,\n",
    "                           no_repeat_ngram_size=3,\n",
    "                           encoder_no_repeat_ngram_size=3,\n",
    "                           repetition_penalty=3.5,\n",
    "                           num_beams=4,\n",
    "                           do_sample=False,\n",
    "                           early_stopping=True)\n",
    "    \n",
    "    #init list to stores summaries and append summary for each candidate\n",
    "    candidate_summaries = []\n",
    "    for summary in summaries:\n",
    "        candidate_summaries.append(summary[\"summary_text\"])\n",
    "\n",
    "    #append name, party, summary to df\n",
    "    summary_df['first_name'] = first_names\n",
    "    summary_df['last_name'] = last_names\n",
    "    summary_df['summary'] = candidate_summaries\n",
    "    \n",
    "    return summary_df\n",
    "    "
   ]
  },
  {
   "cell_type": "code",
   "execution_count": 6,
   "id": "03d08b42-67a9-4f88-995a-bdb778d633b8",
   "metadata": {},
   "outputs": [],
   "source": [
    "def save_dataset(df, outfilepath):\n",
    "    \"\"\"\n",
    "    Saves the labeled dataframe to GCP data bucket\n",
    "    \n",
    "    Input: Pandas dataframe, GCP file path\n",
    "    Output: None\n",
    "\n",
    "    >>> save_dataset(dataframe, 'filepath'):\n",
    "    returns None\n",
    "    \"\"\"\n",
    "    #convert DataFrame to a CSV string\n",
    "    csv_string = df.to_csv(index=False)\n",
    "\n",
    "    #upload the CSV string to GCP\n",
    "    blob = bucket.blob(outfilepath)\n",
    "    blob.upload_from_string(csv_string)\n",
    "    "
   ]
  },
  {
   "cell_type": "code",
   "execution_count": 7,
   "id": "db188724-cfb9-4168-ab5d-00d43bce9693",
   "metadata": {},
   "outputs": [
    {
     "data": {
      "text/html": [
       "<div>\n",
       "<style scoped>\n",
       "    .dataframe tbody tr th:only-of-type {\n",
       "        vertical-align: middle;\n",
       "    }\n",
       "\n",
       "    .dataframe tbody tr th {\n",
       "        vertical-align: top;\n",
       "    }\n",
       "\n",
       "    .dataframe thead th {\n",
       "        text-align: right;\n",
       "    }\n",
       "</style>\n",
       "<table border=\"1\" class=\"dataframe\">\n",
       "  <thead>\n",
       "    <tr style=\"text-align: right;\">\n",
       "      <th></th>\n",
       "      <th>Unnamed: 0</th>\n",
       "      <th>first_name</th>\n",
       "      <th>last_name</th>\n",
       "      <th>party</th>\n",
       "      <th>network</th>\n",
       "      <th>date</th>\n",
       "      <th>text</th>\n",
       "    </tr>\n",
       "  </thead>\n",
       "  <tbody>\n",
       "    <tr>\n",
       "      <th>0</th>\n",
       "      <td>0</td>\n",
       "      <td>Marianne</td>\n",
       "      <td>Williamson</td>\n",
       "      <td>D</td>\n",
       "      <td>FOXNEWSW</td>\n",
       "      <td>20230611</td>\n",
       "      <td>and . this despite a new poll from rasmussen t...</td>\n",
       "    </tr>\n",
       "    <tr>\n",
       "      <th>1</th>\n",
       "      <td>1</td>\n",
       "      <td>Marianne</td>\n",
       "      <td>Williamson</td>\n",
       "      <td>D</td>\n",
       "      <td>FBC</td>\n",
       "      <td>20230622</td>\n",
       "      <td>yesterday i spoke with democrat the presidenti...</td>\n",
       "    </tr>\n",
       "    <tr>\n",
       "      <th>2</th>\n",
       "      <td>2</td>\n",
       "      <td>Marianne</td>\n",
       "      <td>Williamson</td>\n",
       "      <td>D</td>\n",
       "      <td>CSPAN</td>\n",
       "      <td>20230823</td>\n",
       "      <td>this time he is doing the same think by senten...</td>\n",
       "    </tr>\n",
       "    <tr>\n",
       "      <th>3</th>\n",
       "      <td>3</td>\n",
       "      <td>Marianne</td>\n",
       "      <td>Williamson</td>\n",
       "      <td>D</td>\n",
       "      <td>CSPAN</td>\n",
       "      <td>20230731</td>\n",
       "      <td>there is our little friend, her name is . she ...</td>\n",
       "    </tr>\n",
       "    <tr>\n",
       "      <th>4</th>\n",
       "      <td>4</td>\n",
       "      <td>Marianne</td>\n",
       "      <td>Williamson</td>\n",
       "      <td>D</td>\n",
       "      <td>CSPAN</td>\n",
       "      <td>20230813</td>\n",
       "      <td>and speaking at the des moines register soapbo...</td>\n",
       "    </tr>\n",
       "  </tbody>\n",
       "</table>\n",
       "</div>"
      ],
      "text/plain": [
       "   Unnamed: 0 first_name   last_name party   network      date  \\\n",
       "0           0   Marianne  Williamson     D  FOXNEWSW  20230611   \n",
       "1           1   Marianne  Williamson     D       FBC  20230622   \n",
       "2           2   Marianne  Williamson     D     CSPAN  20230823   \n",
       "3           3   Marianne  Williamson     D     CSPAN  20230731   \n",
       "4           4   Marianne  Williamson     D     CSPAN  20230813   \n",
       "\n",
       "                                                text  \n",
       "0  and . this despite a new poll from rasmussen t...  \n",
       "1  yesterday i spoke with democrat the presidenti...  \n",
       "2  this time he is doing the same think by senten...  \n",
       "3  there is our little friend, her name is . she ...  \n",
       "4  and speaking at the des moines register soapbo...  "
      ]
     },
     "execution_count": 7,
     "metadata": {},
     "output_type": "execute_result"
    }
   ],
   "source": [
    "#import unlabeled dataset into dataframe\n",
    "df = pd.read_csv(io.StringIO(content))\n",
    "df = df.dropna()\n",
    "#Sanity check\n",
    "df.head(5)"
   ]
  },
  {
   "cell_type": "code",
   "execution_count": 8,
   "id": "bfb55740-f659-4a3d-9a8c-979ca970abc4",
   "metadata": {},
   "outputs": [],
   "source": [
    "#define summarization pipeline\n",
    "summarizer = pipeline(\"summarization\", model=MODEL_SPECIFICATION, device=device)"
   ]
  },
  {
   "cell_type": "code",
   "execution_count": 9,
   "id": "8a29b6a9-598b-4308-a7db-d75cc59a2abc",
   "metadata": {},
   "outputs": [],
   "source": [
    "#summarize the dataframe\n",
    "summary_df = summarize(df)"
   ]
  },
  {
   "cell_type": "code",
   "execution_count": 10,
   "id": "da221633-9162-419d-b769-6d402ca775b3",
   "metadata": {},
   "outputs": [
    {
     "data": {
      "text/plain": [
       "'This week, the Tampa Bay Times reports that the Republican presidential primary is headed for a close finish. Tim Scott and Jon Tosteau are also on the show. They discuss Donald Trump\\'s legal woes and how he plans to reform the system so that people won\\'t be afraid to vote for him. John Kasich rallies his supporters against DONALD TRUMP. The narrator notes that this could easily be the year of the anti-trump movement. Donald trump seems poised to win Florida even though he faces major challenges in the upcoming elections. Meanwhile, governor trump continues losing ground to republican presidential hopeful donaldo trump. He has been criticized by many as an \"unfriendly\" person who does not stand up for what he believes in. In addition, Gov. George W. Bush stops by woodside to stump for trump.'"
      ]
     },
     "execution_count": 10,
     "metadata": {},
     "output_type": "execute_result"
    }
   ],
   "source": [
    "#check output\n",
    "summary_df['summary'][2]"
   ]
  },
  {
   "cell_type": "code",
   "execution_count": 11,
   "id": "04595133-ad1c-431b-8885-1776dc60cc68",
   "metadata": {},
   "outputs": [],
   "source": [
    "#save the output dataframe\n",
    "save_dataset(summary_df, OUTPUT_FILEPATH)"
   ]
  }
 ],
 "metadata": {
  "environment": {
   "kernel": "python3",
   "name": "pytorch-gpu.2-0.m112",
   "type": "gcloud",
   "uri": "gcr.io/deeplearning-platform-release/pytorch-gpu.2-0:m112"
  },
  "kernelspec": {
   "display_name": "Python 3",
   "language": "python",
   "name": "python3"
  },
  "language_info": {
   "codemirror_mode": {
    "name": "ipython",
    "version": 3
   },
   "file_extension": ".py",
   "mimetype": "text/x-python",
   "name": "python",
   "nbconvert_exporter": "python",
   "pygments_lexer": "ipython3",
   "version": "3.10.12"
  }
 },
 "nbformat": 4,
 "nbformat_minor": 5
}
